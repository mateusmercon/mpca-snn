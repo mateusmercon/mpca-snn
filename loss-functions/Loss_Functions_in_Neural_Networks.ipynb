{
  "nbformat": 4,
  "nbformat_minor": 0,
  "metadata": {
    "colab": {
      "provenance": []
    },
    "kernelspec": {
      "name": "python3",
      "display_name": "Python 3"
    },
    "language_info": {
      "name": "python"
    }
  },
  "cells": [
    {
      "cell_type": "markdown",
      "source": [
        "Src:\n",
        "* [How Loss Functions Work in Neural Networks and Deep Learning](https://builtin.com/machine-learning/loss-functions)\n",
        "* [A Friendly Introduction to Siamese Networks](https://builtin.com/machine-learning/siamese-network)"
      ],
      "metadata": {
        "id": "rR18HC3I9jQn"
      }
    },
    {
      "cell_type": "code",
      "source": [
        "import numpy as np"
      ],
      "metadata": {
        "id": "dG9c3Ahl-_0L"
      },
      "execution_count": null,
      "outputs": []
    },
    {
      "cell_type": "markdown",
      "source": [
        "# Loss Functions in Neural Networks"
      ],
      "metadata": {
        "id": "iUS5sxCEO6ZS"
      }
    },
    {
      "cell_type": "markdown",
      "source": [
        "The neural network’s main objective is to minimize the loss function."
      ],
      "metadata": {
        "id": "TXXyPvflO-HV"
      }
    },
    {
      "cell_type": "markdown",
      "source": [
        "## Mean Squared Error Loss Function"
      ],
      "metadata": {
        "id": "NUVqwMlL9LLD"
      }
    },
    {
      "cell_type": "markdown",
      "source": [
        "\\begin{align}\n",
        "\\text{MSE} = \\frac{1}{n} \\sum_{i=1}^n (y_i - \\hat{y}_i)^2\n",
        "\\end{align}"
      ],
      "metadata": {
        "id": "R7VQ-y7gRkc2"
      }
    },
    {
      "cell_type": "code",
      "execution_count": null,
      "metadata": {
        "colab": {
          "base_uri": "https://localhost:8080/"
        },
        "id": "1N7UDaeV9CDA",
        "outputId": "475b69ef-2ae9-4d69-9ab8-c4189871e031"
      },
      "outputs": [
        {
          "output_type": "stream",
          "name": "stdout",
          "text": [
            "0.21606\n"
          ]
        }
      ],
      "source": [
        "# used when the goal is to predict a continuous scalar value\n",
        "# usage example: regression\n",
        "\n",
        "y_pred = np.array([0.6, 1.29, 1.99, 2.69, 3.4])\n",
        "y_hat = np.array([1, 1, 2, 2, 4])\n",
        "\n",
        "MSE = np.square(np.subtract(y_pred, y_hat)).mean()\n",
        "print(MSE)"
      ]
    },
    {
      "cell_type": "markdown",
      "source": [
        "## Cross-Entropy Loss Function"
      ],
      "metadata": {
        "id": "uUKaVpRB-t-4"
      }
    },
    {
      "cell_type": "markdown",
      "source": [
        "\\begin{align}\n",
        "\\text{Loss} = -\\sum_{i=1}^C y_i \\log(\\hat{y}_i)\n",
        "\\end{align}"
      ],
      "metadata": {
        "id": "t1yYd133SCw6"
      }
    },
    {
      "cell_type": "code",
      "source": [
        "# used when the goal is to predict a probability\n",
        "# usage example: classification\n",
        "\n",
        "y_pred = np.array([0.1, 0.3, 0.4, 0.2])\n",
        "y_hat = np.array([0, 1, 0, 0])\n",
        "\n",
        "cross_entropy = -np.sum(np.multiply(y_hat, np.log(y_pred)))\n",
        "print(cross_entropy)"
      ],
      "metadata": {
        "colab": {
          "base_uri": "https://localhost:8080/"
        },
        "id": "x2RfM4lv_g9J",
        "outputId": "39734ce1-3790-4e80-8028-c60c0805a804"
      },
      "execution_count": null,
      "outputs": [
        {
          "output_type": "stream",
          "name": "stdout",
          "text": [
            "0.10536051565782628\n"
          ]
        }
      ]
    },
    {
      "cell_type": "markdown",
      "source": [
        "## Mean Absolute Percentage Error\n",
        "\n",
        "* Also known as mean absolute percentage deviation (MAPD)"
      ],
      "metadata": {
        "id": "GswIhSAjBVji"
      }
    },
    {
      "cell_type": "markdown",
      "source": [
        "\\begin{align}\n",
        "\\text{MAPE} = \\frac{1}{n} \\sum_{i=1}^n \\left| \\frac{y_i - \\hat{y}_i}{y_i} \\right| \\times 100\n",
        "\\end{align}"
      ],
      "metadata": {
        "id": "T1kAAh-ISPoR"
      }
    },
    {
      "cell_type": "code",
      "source": [
        "# similar to MSE, but expresses accuracy as a percentage\n",
        "# usage example: demand forecasting\n",
        "\n",
        "y_pred = np.array([0.6, 1.29, 1.99, 2.69, 3.4])\n",
        "y_hat = np.array([1, 1, 2, 2, 4])\n",
        "\n",
        "MAPE = (100.0/len(y_hat))*np.sum(np.abs(y_pred-y_hat)/y_hat)\n",
        "print(MAPE)"
      ],
      "metadata": {
        "colab": {
          "base_uri": "https://localhost:8080/"
        },
        "id": "gcDyGXkkAipE",
        "outputId": "4b932595-011c-487e-bb41-f9d44fd71ee0"
      },
      "execution_count": null,
      "outputs": [
        {
          "output_type": "stream",
          "name": "stdout",
          "text": [
            "23.799999999999997\n"
          ]
        }
      ]
    },
    {
      "cell_type": "markdown",
      "source": [
        "# Loss Functions Used in Siamese Neural Networks\n"
      ],
      "metadata": {
        "id": "xDjEFXV_M0SG"
      }
    },
    {
      "cell_type": "markdown",
      "source": [
        "In Siamese Neural Networks, the goal is to compare pairs of inputs and determine their similarity. Therefore, we need to use a different set of loss functions."
      ],
      "metadata": {
        "id": "A9cZCkrcOjcq"
      }
    },
    {
      "cell_type": "markdown",
      "source": [
        "## Contrastive Loss"
      ],
      "metadata": {
        "id": "EjRG9FsSOUsv"
      }
    },
    {
      "cell_type": "markdown",
      "source": [
        "\\begin{align}\n",
        "L = (1 - y) \\cdot \\max(0, m - D)^2 + y \\cdot D^2\n",
        "\\end{align}"
      ],
      "metadata": {
        "id": "7vvHetdbSY5j"
      }
    },
    {
      "cell_type": "code",
      "source": [
        "x1 = np.array([[1, 2], [2, 3], [3, 4], [4, 5]])\n",
        "x2 = np.array([[1, 2], [3, 3], [6, 7], [5, 5]])\n",
        "y = np.array([1, 1, 0, 0])\n",
        "\n",
        "D = np.sqrt(np.sum((x1 - x2) ** 2, axis=1))\n",
        "\n",
        "margin = 1.0\n",
        "similar_loss = y * np.square(D)\n",
        "dissimilar_loss = (1 - y) * np.square(np.maximum(0, margin - D))\n",
        "contrastive_loss = np.mean(similar_loss + dissimilar_loss)\n",
        "\n",
        "print(\"Distances (D):\", D)\n",
        "print(\"Contrastive Loss:\", contrastive_loss)"
      ],
      "metadata": {
        "colab": {
          "base_uri": "https://localhost:8080/"
        },
        "id": "1ENpE_cbOcYw",
        "outputId": "3045a67a-991a-4b02-9b97-1e217ee485ce"
      },
      "execution_count": null,
      "outputs": [
        {
          "output_type": "stream",
          "name": "stdout",
          "text": [
            "Distances (D): [0.         1.         4.24264069 1.        ]\n",
            "Contrastive Loss: 0.25\n"
          ]
        }
      ]
    },
    {
      "cell_type": "markdown",
      "source": [
        "## Triplet Loss"
      ],
      "metadata": {
        "id": "-WEVqieoOaTq"
      }
    },
    {
      "cell_type": "markdown",
      "source": [
        "\\begin{align}\n",
        "L = \\max(0, D(A, P) - D(A, N) + \\alpha)\n",
        "\\end{align}"
      ],
      "metadata": {
        "id": "9wSiE-XmULID"
      }
    },
    {
      "cell_type": "code",
      "source": [
        "anchor = np.array([[3, 4], [3, 5], [4, 6]])\n",
        "positive = np.array([[1, 2], [2, 4], [3, 5]])\n",
        "negative = np.array([[5, 6], [7, 8], [9, 10]])\n",
        "\n",
        "D_ap = np.sqrt(np.sum((anchor - positive) ** 2, axis=1))\n",
        "D_an = np.sqrt(np.sum((anchor - negative) ** 2, axis=1))\n",
        "\n",
        "alpha = 0.5\n",
        "triplet_loss = np.maximum(0, D_ap - D_an + alpha)\n",
        "mean_triplet_loss = np.mean(triplet_loss)\n",
        "\n",
        "print(\"Anchor-Positive Distances (D_ap):\", D_ap)\n",
        "print(\"Anchor-Negative Distances (D_an):\", D_an)\n",
        "print(\"Triplet Loss:\", mean_triplet_loss)\n"
      ],
      "metadata": {
        "colab": {
          "base_uri": "https://localhost:8080/"
        },
        "id": "BNKKQW_9PWqh",
        "outputId": "5fb793a1-e9ba-41a7-bd87-9c8d8cfcb888"
      },
      "execution_count": null,
      "outputs": [
        {
          "output_type": "stream",
          "name": "stdout",
          "text": [
            "Anchor-Positive Distances (D_ap): [2.82842712 1.41421356 1.41421356]\n",
            "Anchor-Negative Distances (D_an): [2.82842712 5.         6.40312424]\n",
            "Triplet Loss: 0.16666666666666666\n"
          ]
        }
      ]
    }
  ]
}